{
 "cells": [
  {
   "cell_type": "code",
   "execution_count": 1,
   "id": "8d42b0f9-cf3a-414a-9f19-b744bdfe8863",
   "metadata": {},
   "outputs": [],
   "source": [
    "import pandas as pd"
   ]
  },
  {
   "cell_type": "code",
   "execution_count": 2,
   "id": "442a4f5f-8e5c-4da8-8ca1-393e28cfe28d",
   "metadata": {},
   "outputs": [],
   "source": [
    "PROJ_DIR = '/zfs/projects/faculty/jinhwan-green-patents'"
   ]
  },
  {
   "cell_type": "code",
   "execution_count": 3,
   "id": "04198c7d-79ad-4336-8a6c-356f94f943aa",
   "metadata": {},
   "outputs": [],
   "source": [
    "# Combine the pre-2010 and post-2010 datasets\n",
    "pre_2010_df = pd.read_stata(f'{PROJ_DIR}/data/raw_data/PreGrant_patent_2001_2010.dta')\n",
    "post_2010_df = pd.read_stata(f'{PROJ_DIR}/data/raw_data/PreGrant_patent_post_2010.dta')"
   ]
  },
  {
   "cell_type": "code",
   "execution_count": 4,
   "id": "41d56332-d11e-4e29-a7ba-51157ac7cb93",
   "metadata": {},
   "outputs": [
    {
     "data": {
      "text/plain": [
       "(2939075, 13)"
      ]
     },
     "execution_count": 4,
     "metadata": {},
     "output_type": "execute_result"
    }
   ],
   "source": [
    "pre_2010_df.shape"
   ]
  },
  {
   "cell_type": "code",
   "execution_count": 5,
   "id": "dec2f688-98d9-4ab9-8235-c3539cabc16b",
   "metadata": {},
   "outputs": [
    {
     "data": {
      "text/html": [
       "<div>\n",
       "<style scoped>\n",
       "    .dataframe tbody tr th:only-of-type {\n",
       "        vertical-align: middle;\n",
       "    }\n",
       "\n",
       "    .dataframe tbody tr th {\n",
       "        vertical-align: top;\n",
       "    }\n",
       "\n",
       "    .dataframe thead th {\n",
       "        text-align: right;\n",
       "    }\n",
       "</style>\n",
       "<table border=\"1\" class=\"dataframe\">\n",
       "  <thead>\n",
       "    <tr style=\"text-align: right;\">\n",
       "      <th></th>\n",
       "      <th>pgpub_id</th>\n",
       "      <th>patent_id</th>\n",
       "      <th>filing_date</th>\n",
       "      <th>ipc_class</th>\n",
       "      <th>ipc_subclass</th>\n",
       "      <th>ipc_group</th>\n",
       "      <th>cpc_class</th>\n",
       "      <th>cpc_subclass</th>\n",
       "      <th>cpc_group</th>\n",
       "      <th>permno</th>\n",
       "      <th>wipo_green</th>\n",
       "      <th>oecd_green</th>\n",
       "      <th>year</th>\n",
       "    </tr>\n",
       "  </thead>\n",
       "  <tbody>\n",
       "    <tr>\n",
       "      <th>0</th>\n",
       "      <td>2.001000e+10</td>\n",
       "      <td></td>\n",
       "      <td>2001-01-02</td>\n",
       "      <td>B23</td>\n",
       "      <td>B23P</td>\n",
       "      <td>B23P21/00</td>\n",
       "      <td>E21</td>\n",
       "      <td>E21B</td>\n",
       "      <td>E21B19/166</td>\n",
       "      <td>NaN</td>\n",
       "      <td>0.0</td>\n",
       "      <td>0.0</td>\n",
       "      <td>2001.0</td>\n",
       "    </tr>\n",
       "    <tr>\n",
       "      <th>1</th>\n",
       "      <td>2.001000e+10</td>\n",
       "      <td>6382181</td>\n",
       "      <td>2001-01-03</td>\n",
       "      <td>F02</td>\n",
       "      <td>F02D</td>\n",
       "      <td>F02D9/08</td>\n",
       "      <td>F02</td>\n",
       "      <td>F02D</td>\n",
       "      <td>F02D9/1065</td>\n",
       "      <td>64231.0</td>\n",
       "      <td>0.0</td>\n",
       "      <td>0.0</td>\n",
       "      <td>2001.0</td>\n",
       "    </tr>\n",
       "    <tr>\n",
       "      <th>2</th>\n",
       "      <td>2.001000e+10</td>\n",
       "      <td>6613283</td>\n",
       "      <td>2001-01-02</td>\n",
       "      <td>B29</td>\n",
       "      <td>B29C</td>\n",
       "      <td>B29C41/22</td>\n",
       "      <td>B29</td>\n",
       "      <td>B29C</td>\n",
       "      <td>B29C41/08</td>\n",
       "      <td>NaN</td>\n",
       "      <td>0.0</td>\n",
       "      <td>0.0</td>\n",
       "      <td>2001.0</td>\n",
       "    </tr>\n",
       "    <tr>\n",
       "      <th>3</th>\n",
       "      <td>2.001000e+10</td>\n",
       "      <td></td>\n",
       "      <td>2001-01-03</td>\n",
       "      <td>F21</td>\n",
       "      <td>F21V</td>\n",
       "      <td>F21V19/02</td>\n",
       "      <td>H01</td>\n",
       "      <td>H01R</td>\n",
       "      <td>H01R33/965</td>\n",
       "      <td>NaN</td>\n",
       "      <td>0.0</td>\n",
       "      <td>0.0</td>\n",
       "      <td>2001.0</td>\n",
       "    </tr>\n",
       "    <tr>\n",
       "      <th>4</th>\n",
       "      <td>2.001000e+10</td>\n",
       "      <td>6299354</td>\n",
       "      <td>2001-01-02</td>\n",
       "      <td>B65</td>\n",
       "      <td>B65D</td>\n",
       "      <td>B65D19/00</td>\n",
       "      <td>B65</td>\n",
       "      <td>B65D</td>\n",
       "      <td>B65D88/20</td>\n",
       "      <td>NaN</td>\n",
       "      <td>0.0</td>\n",
       "      <td>0.0</td>\n",
       "      <td>2001.0</td>\n",
       "    </tr>\n",
       "  </tbody>\n",
       "</table>\n",
       "</div>"
      ],
      "text/plain": [
       "       pgpub_id patent_id filing_date ipc_class ipc_subclass  ipc_group  \\\n",
       "0  2.001000e+10            2001-01-02       B23         B23P  B23P21/00   \n",
       "1  2.001000e+10   6382181  2001-01-03       F02         F02D   F02D9/08   \n",
       "2  2.001000e+10   6613283  2001-01-02       B29         B29C  B29C41/22   \n",
       "3  2.001000e+10            2001-01-03       F21         F21V  F21V19/02   \n",
       "4  2.001000e+10   6299354  2001-01-02       B65         B65D  B65D19/00   \n",
       "\n",
       "  cpc_class cpc_subclass   cpc_group   permno  wipo_green  oecd_green    year  \n",
       "0       E21         E21B  E21B19/166      NaN         0.0         0.0  2001.0  \n",
       "1       F02         F02D  F02D9/1065  64231.0         0.0         0.0  2001.0  \n",
       "2       B29         B29C   B29C41/08      NaN         0.0         0.0  2001.0  \n",
       "3       H01         H01R  H01R33/965      NaN         0.0         0.0  2001.0  \n",
       "4       B65         B65D   B65D88/20      NaN         0.0         0.0  2001.0  "
      ]
     },
     "execution_count": 5,
     "metadata": {},
     "output_type": "execute_result"
    }
   ],
   "source": [
    "pre_2010_df.head()"
   ]
  },
  {
   "cell_type": "code",
   "execution_count": 7,
   "id": "c3a1ac72-7ba7-4e63-bdfb-4c314bc54555",
   "metadata": {},
   "outputs": [
    {
     "data": {
      "text/plain": [
       "(4388854, 13)"
      ]
     },
     "execution_count": 7,
     "metadata": {},
     "output_type": "execute_result"
    }
   ],
   "source": [
    "post_2010_df.shape"
   ]
  },
  {
   "cell_type": "code",
   "execution_count": 8,
   "id": "3e44c96a-de0a-45b0-8aba-7b6cc8155a8b",
   "metadata": {},
   "outputs": [
    {
     "data": {
      "text/plain": [
       "7327929"
      ]
     },
     "execution_count": 8,
     "metadata": {},
     "output_type": "execute_result"
    }
   ],
   "source": [
    "post_2010_df.shape[0] + pre_2010_df.shape[0] "
   ]
  },
  {
   "cell_type": "code",
   "execution_count": 6,
   "id": "25b08d8f-651c-45ba-88d1-e0cca93ed594",
   "metadata": {},
   "outputs": [
    {
     "data": {
      "text/html": [
       "<div>\n",
       "<style scoped>\n",
       "    .dataframe tbody tr th:only-of-type {\n",
       "        vertical-align: middle;\n",
       "    }\n",
       "\n",
       "    .dataframe tbody tr th {\n",
       "        vertical-align: top;\n",
       "    }\n",
       "\n",
       "    .dataframe thead th {\n",
       "        text-align: right;\n",
       "    }\n",
       "</style>\n",
       "<table border=\"1\" class=\"dataframe\">\n",
       "  <thead>\n",
       "    <tr style=\"text-align: right;\">\n",
       "      <th></th>\n",
       "      <th>pgpub_id</th>\n",
       "      <th>patent_id</th>\n",
       "      <th>filing_date</th>\n",
       "      <th>ipc_class</th>\n",
       "      <th>ipc_subclass</th>\n",
       "      <th>ipc_group</th>\n",
       "      <th>cpc_class</th>\n",
       "      <th>cpc_subclass</th>\n",
       "      <th>cpc_group</th>\n",
       "      <th>permno</th>\n",
       "      <th>wipo_green</th>\n",
       "      <th>oecd_green</th>\n",
       "      <th>year</th>\n",
       "    </tr>\n",
       "  </thead>\n",
       "  <tbody>\n",
       "    <tr>\n",
       "      <th>0</th>\n",
       "      <td>2.006013e+10</td>\n",
       "      <td>7704756</td>\n",
       "      <td>NaT</td>\n",
       "      <td>C40</td>\n",
       "      <td>C40B</td>\n",
       "      <td>C40B40/02</td>\n",
       "      <td>C07</td>\n",
       "      <td>C07D</td>\n",
       "      <td>C07D493/10</td>\n",
       "      <td>88233.0</td>\n",
       "      <td>0.0</td>\n",
       "      <td>0.0</td>\n",
       "      <td>NaN</td>\n",
       "    </tr>\n",
       "    <tr>\n",
       "      <th>1</th>\n",
       "      <td>2.011009e+10</td>\n",
       "      <td>8042366</td>\n",
       "      <td>2011-01-07</td>\n",
       "      <td>E05</td>\n",
       "      <td>E05B</td>\n",
       "      <td>E05B73/00</td>\n",
       "      <td>E05</td>\n",
       "      <td>E05B</td>\n",
       "      <td>E05B73/00</td>\n",
       "      <td>90825.0</td>\n",
       "      <td>0.0</td>\n",
       "      <td>0.0</td>\n",
       "      <td>2011.0</td>\n",
       "    </tr>\n",
       "    <tr>\n",
       "      <th>2</th>\n",
       "      <td>2.011009e+10</td>\n",
       "      <td></td>\n",
       "      <td>2011-01-06</td>\n",
       "      <td>G06</td>\n",
       "      <td>G06F</td>\n",
       "      <td>G06F15/16</td>\n",
       "      <td>H04</td>\n",
       "      <td>H04N</td>\n",
       "      <td>H04N21/47</td>\n",
       "      <td>NaN</td>\n",
       "      <td>0.0</td>\n",
       "      <td>0.0</td>\n",
       "      <td>2011.0</td>\n",
       "    </tr>\n",
       "    <tr>\n",
       "      <th>3</th>\n",
       "      <td>2.011009e+10</td>\n",
       "      <td></td>\n",
       "      <td>2011-01-10</td>\n",
       "      <td>H04</td>\n",
       "      <td>H04M</td>\n",
       "      <td>H04M3/42</td>\n",
       "      <td>G06</td>\n",
       "      <td>G06F</td>\n",
       "      <td>G06F16/33</td>\n",
       "      <td>NaN</td>\n",
       "      <td>0.0</td>\n",
       "      <td>0.0</td>\n",
       "      <td>2011.0</td>\n",
       "    </tr>\n",
       "    <tr>\n",
       "      <th>4</th>\n",
       "      <td>2.011009e+10</td>\n",
       "      <td>8518111</td>\n",
       "      <td>2011-01-05</td>\n",
       "      <td>A61</td>\n",
       "      <td>A61F</td>\n",
       "      <td>A61F2/12</td>\n",
       "      <td>A61</td>\n",
       "      <td>A61M</td>\n",
       "      <td>A61M29/02</td>\n",
       "      <td>NaN</td>\n",
       "      <td>0.0</td>\n",
       "      <td>0.0</td>\n",
       "      <td>2011.0</td>\n",
       "    </tr>\n",
       "  </tbody>\n",
       "</table>\n",
       "</div>"
      ],
      "text/plain": [
       "       pgpub_id patent_id filing_date ipc_class ipc_subclass  ipc_group  \\\n",
       "0  2.006013e+10   7704756         NaT       C40         C40B  C40B40/02   \n",
       "1  2.011009e+10   8042366  2011-01-07       E05         E05B  E05B73/00   \n",
       "2  2.011009e+10            2011-01-06       G06         G06F  G06F15/16   \n",
       "3  2.011009e+10            2011-01-10       H04         H04M   H04M3/42   \n",
       "4  2.011009e+10   8518111  2011-01-05       A61         A61F   A61F2/12   \n",
       "\n",
       "  cpc_class cpc_subclass   cpc_group   permno  wipo_green  oecd_green    year  \n",
       "0       C07         C07D  C07D493/10  88233.0         0.0         0.0     NaN  \n",
       "1       E05         E05B   E05B73/00  90825.0         0.0         0.0  2011.0  \n",
       "2       H04         H04N   H04N21/47      NaN         0.0         0.0  2011.0  \n",
       "3       G06         G06F   G06F16/33      NaN         0.0         0.0  2011.0  \n",
       "4       A61         A61M   A61M29/02      NaN         0.0         0.0  2011.0  "
      ]
     },
     "execution_count": 6,
     "metadata": {},
     "output_type": "execute_result"
    }
   ],
   "source": [
    "post_2010_df.head()"
   ]
  },
  {
   "cell_type": "markdown",
   "id": "36b1f5b1-832f-4983-8fd4-aea43ad7048a",
   "metadata": {},
   "source": [
    "## Run data prep pipeline\n",
    "- Activate `venv`\n",
    "- Run `python 0_data_prep.py` script\n",
    "- Submit `sbatch 1_save_claims_text.slurm` and `1_save_details_text.slurm`\n",
    "- Submit `sbatch 2_tokenize_claims.slurm` and `2_tokenize_details.slurm`\n",
    "- Run `python 3_make_train_data.py`"
   ]
  },
  {
   "cell_type": "code",
   "execution_count": null,
   "id": "a4ac2246-39eb-4101-8ed9-9be200f0dc1f",
   "metadata": {},
   "outputs": [],
   "source": []
  }
 ],
 "metadata": {
  "kernelspec": {
   "display_name": "patents",
   "language": "python",
   "name": "patents"
  },
  "language_info": {
   "codemirror_mode": {
    "name": "ipython",
    "version": 3
   },
   "file_extension": ".py",
   "mimetype": "text/x-python",
   "name": "python",
   "nbconvert_exporter": "python",
   "pygments_lexer": "ipython3",
   "version": "3.10.12"
  }
 },
 "nbformat": 4,
 "nbformat_minor": 5
}
