{
 "cells": [
  {
   "cell_type": "markdown",
   "id": "56179d5d-6e78-4a5d-8287-c2ad1237bdeb",
   "metadata": {},
   "source": [
    "# Convert chunk probabilities into doc probabilities"
   ]
  },
  {
   "cell_type": "code",
   "execution_count": 7,
   "id": "1c63d437-7bc6-4428-9086-8968e04d7f16",
   "metadata": {},
   "outputs": [],
   "source": [
    "import pandas as pd\n",
    "import numpy as np\n",
    "import os\n",
    "import yaml\n",
    "import matplotlib.pyplot as plt\n",
    "from sklearn.metrics import confusion_matrix, classification_report, f1_score, precision_score, recall_score, accuracy_score\n",
    "import seaborn as sns"
   ]
  },
  {
   "cell_type": "code",
   "execution_count": 10,
   "id": "2f392e25-4355-4d86-90f4-15aa02b33cbe",
   "metadata": {},
   "outputs": [],
   "source": [
    "# Configurable paths\n",
    "PROJ_DIR = '/zfs/projects/faculty/jinhwan-green-patents'\n",
    "\n",
    "# Load Configuration\n",
    "with open(f'{PROJ_DIR}/config.yaml', 'r') as file:\n",
    "    config = yaml.safe_load(file)\n",
    "\n",
    "# Extract configuration parameters\n",
    "SECTION = config['section']  # e.g., 'F'\n",
    "YEAR_THRESHOLD = config['year']  # e.g., 2010\n",
    "\n",
    "# Input directory for claims files\n",
    "input_dir = f\"{PROJ_DIR}/predictions/claims-model\""
   ]
  },
  {
   "cell_type": "code",
   "execution_count": 21,
   "id": "b50de9ee-944f-446a-9de3-9da0a897d258",
   "metadata": {},
   "outputs": [],
   "source": [
    "# Function to clean, convert, ensure two elements, and take the second one (prob of green)\n",
    "def clean_convert(lst):\n",
    "    # Join into a single string and replace sequences of spaces with a comma\n",
    "    joined_str = ','.join(lst).replace(' ', ',')\n",
    "    # Remove non-numeric characters at the start and end\n",
    "    cleaned_str = joined_str.strip('[]')\n",
    "    # Split by comma, filter out empty strings, and convert to float\n",
    "    float_elements = [float(e) for e in cleaned_str.split(',') if e]\n",
    "    # Ensure the list has exactly two elements\n",
    "    if len(float_elements) != 2:\n",
    "        return [None, None]  # or any other way you want to handle irregular cases\n",
    "    return float_elements[1]"
   ]
  },
  {
   "cell_type": "code",
   "execution_count": 34,
   "id": "f8061e32-62d4-43da-8dd9-2cb841cbc949",
   "metadata": {},
   "outputs": [],
   "source": [
    "def plot_confusion(y_true, y_pred):\n",
    "    # Generate the confusion matrix\n",
    "    cm = confusion_matrix(y_true, y_pred)\n",
    "    \n",
    "    # Plotting confusion matrix\n",
    "    sns.heatmap(cm, annot=True, fmt=\"d\", cmap=\"Blues\", cbar=False)\n",
    "    plt.xlabel('Predicted labels')\n",
    "    plt.ylabel('True labels')\n",
    "    plt.title('Confusion Matrix')\n",
    "    plt.show()\n",
    "    \n",
    "    # Extracting matrix components\n",
    "    tn, fp, fn, tp = cm.ravel()\n",
    "\n",
    "    # Calculating metrics\n",
    "    accuracy = (tp + tn) / (tp + tn + fp + fn)\n",
    "    fpr = fp / (fp + tn)\n",
    "    fnr = fn / (fn + tp)\n",
    "    \n",
    "    # Calculate precision, recall, and F1 score\n",
    "    precision = tp / (tp + fp) if (tp + fp) > 0 else 0\n",
    "    recall = tp / (tp + fn) if (tp + fn) > 0 else 0\n",
    "    \n",
    "    f1_score_hand = 2 * (precision * recall) / (precision + recall) if (precision + recall) > 0 else 0\n",
    "    \n",
    "    print(f\"Precision: {precision:.4f}\")\n",
    "    print(f\"Recall: {recall:.4f}\")\n",
    "    print(f\"F1 Score: {f1_score_hand:.4f}\")\n",
    "\n",
    "    print(f\"Accuracy: {accuracy*100:.4f}%\")\n",
    "    print(f\"False Positive Rate: {fpr*100:.4f}%\")\n",
    "    print(f\"False Negative Rate: {fnr*100:.4f}%\")\n",
    "    \n",
    "    \n",
    "    # Calculate and print F1 scores per class\n",
    "    f1_scores = f1_score(y_true, y_pred, average=None)\n",
    "    print(f\"F1 Scores per class: {f1_scores}\")\n",
    "\n",
    "    # Calculate other averages as needed\n",
    "    f1_macro = f1_score(y_true, y_pred, average='macro')\n",
    "    f1_weighted = f1_score(y_true, y_pred, average='weighted')\n",
    "    f1_micro = f1_score(y_true, y_pred, average='micro')\n",
    "\n",
    "    print(f\"Macro-average F1: {f1_macro}\")\n",
    "    print(f\"Weighted-average F1: {f1_weighted}\")\n",
    "    print(f\"Micro-average F1: {f1_micro}\")"
   ]
  },
  {
   "cell_type": "code",
   "execution_count": 11,
   "id": "0cc675b7-66fb-4c28-9870-46ba2dd68066",
   "metadata": {},
   "outputs": [],
   "source": [
    "# Paths to the pre-year and post-year predictions and probability claims files\n",
    "pre_year_claims_file = os.path.join(input_dir, f'pre_{YEAR_THRESHOLD}_claims_predictions.csv')\n",
    "post_year_claims_file = os.path.join(input_dir, f'post_{YEAR_THRESHOLD}_claims_predictions.csv')"
   ]
  },
  {
   "cell_type": "code",
   "execution_count": 16,
   "id": "0b8acb78-f35c-4a8d-8b63-c50e4ffc2ca6",
   "metadata": {},
   "outputs": [],
   "source": [
    "df_pre = pd.read_csv(pre_year_claims_file)\n",
    "df_post = pd.read_csv(post_year_claims_file)"
   ]
  },
  {
   "cell_type": "code",
   "execution_count": 13,
   "id": "ee572d92-ab36-4f0b-8f4e-63c38a72045e",
   "metadata": {},
   "outputs": [
    {
     "data": {
      "text/plain": [
       "(880697, 6)"
      ]
     },
     "execution_count": 13,
     "metadata": {},
     "output_type": "execute_result"
    }
   ],
   "source": [
    "df_pre.shape"
   ]
  },
  {
   "cell_type": "code",
   "execution_count": 17,
   "id": "25d3dbd6-2085-4071-8778-369ba593d018",
   "metadata": {},
   "outputs": [
    {
     "data": {
      "text/plain": [
       "(1284345, 6)"
      ]
     },
     "execution_count": 17,
     "metadata": {},
     "output_type": "execute_result"
    }
   ],
   "source": [
    "df_post.shape"
   ]
  },
  {
   "cell_type": "code",
   "execution_count": 14,
   "id": "a34c02be-b203-41cb-aa91-f2d87f3e5a38",
   "metadata": {},
   "outputs": [
    {
     "data": {
      "text/html": [
       "<div>\n",
       "<style scoped>\n",
       "    .dataframe tbody tr th:only-of-type {\n",
       "        vertical-align: middle;\n",
       "    }\n",
       "\n",
       "    .dataframe tbody tr th {\n",
       "        vertical-align: top;\n",
       "    }\n",
       "\n",
       "    .dataframe thead th {\n",
       "        text-align: right;\n",
       "    }\n",
       "</style>\n",
       "<table border=\"1\" class=\"dataframe\">\n",
       "  <thead>\n",
       "    <tr style=\"text-align: right;\">\n",
       "      <th></th>\n",
       "      <th>pgpub_id</th>\n",
       "      <th>chunk_id</th>\n",
       "      <th>label</th>\n",
       "      <th>year</th>\n",
       "      <th>predictions</th>\n",
       "      <th>probabilities</th>\n",
       "    </tr>\n",
       "  </thead>\n",
       "  <tbody>\n",
       "    <tr>\n",
       "      <th>0</th>\n",
       "      <td>20010000574</td>\n",
       "      <td>0</td>\n",
       "      <td>0</td>\n",
       "      <td>2001.0</td>\n",
       "      <td>0</td>\n",
       "      <td>0.000072</td>\n",
       "    </tr>\n",
       "    <tr>\n",
       "      <th>1</th>\n",
       "      <td>20010000574</td>\n",
       "      <td>1</td>\n",
       "      <td>0</td>\n",
       "      <td>2001.0</td>\n",
       "      <td>0</td>\n",
       "      <td>0.000032</td>\n",
       "    </tr>\n",
       "    <tr>\n",
       "      <th>2</th>\n",
       "      <td>20010000574</td>\n",
       "      <td>2</td>\n",
       "      <td>0</td>\n",
       "      <td>2001.0</td>\n",
       "      <td>0</td>\n",
       "      <td>0.000072</td>\n",
       "    </tr>\n",
       "    <tr>\n",
       "      <th>3</th>\n",
       "      <td>20010000574</td>\n",
       "      <td>3</td>\n",
       "      <td>0</td>\n",
       "      <td>2001.0</td>\n",
       "      <td>0</td>\n",
       "      <td>0.000014</td>\n",
       "    </tr>\n",
       "    <tr>\n",
       "      <th>4</th>\n",
       "      <td>20010000574</td>\n",
       "      <td>4</td>\n",
       "      <td>0</td>\n",
       "      <td>2001.0</td>\n",
       "      <td>0</td>\n",
       "      <td>0.000013</td>\n",
       "    </tr>\n",
       "  </tbody>\n",
       "</table>\n",
       "</div>"
      ],
      "text/plain": [
       "      pgpub_id  chunk_id  label    year  predictions  probabilities\n",
       "0  20010000574         0      0  2001.0            0       0.000072\n",
       "1  20010000574         1      0  2001.0            0       0.000032\n",
       "2  20010000574         2      0  2001.0            0       0.000072\n",
       "3  20010000574         3      0  2001.0            0       0.000014\n",
       "4  20010000574         4      0  2001.0            0       0.000013"
      ]
     },
     "execution_count": 14,
     "metadata": {},
     "output_type": "execute_result"
    }
   ],
   "source": [
    "df_pre.head()"
   ]
  },
  {
   "cell_type": "code",
   "execution_count": 20,
   "id": "13530045-dd78-4a29-bf91-6224c516c183",
   "metadata": {},
   "outputs": [
    {
     "data": {
      "text/html": [
       "<div>\n",
       "<style scoped>\n",
       "    .dataframe tbody tr th:only-of-type {\n",
       "        vertical-align: middle;\n",
       "    }\n",
       "\n",
       "    .dataframe tbody tr th {\n",
       "        vertical-align: top;\n",
       "    }\n",
       "\n",
       "    .dataframe thead th {\n",
       "        text-align: right;\n",
       "    }\n",
       "</style>\n",
       "<table border=\"1\" class=\"dataframe\">\n",
       "  <thead>\n",
       "    <tr style=\"text-align: right;\">\n",
       "      <th></th>\n",
       "      <th>pgpub_id</th>\n",
       "      <th>chunk_id</th>\n",
       "      <th>label</th>\n",
       "      <th>year</th>\n",
       "      <th>predictions</th>\n",
       "      <th>probabilities</th>\n",
       "    </tr>\n",
       "  </thead>\n",
       "  <tbody>\n",
       "    <tr>\n",
       "      <th>0</th>\n",
       "      <td>20110094190</td>\n",
       "      <td>0</td>\n",
       "      <td>0</td>\n",
       "      <td>2011.0</td>\n",
       "      <td>0</td>\n",
       "      <td>0.000015</td>\n",
       "    </tr>\n",
       "    <tr>\n",
       "      <th>1</th>\n",
       "      <td>20110094190</td>\n",
       "      <td>1</td>\n",
       "      <td>0</td>\n",
       "      <td>2011.0</td>\n",
       "      <td>0</td>\n",
       "      <td>0.000015</td>\n",
       "    </tr>\n",
       "    <tr>\n",
       "      <th>2</th>\n",
       "      <td>20110094190</td>\n",
       "      <td>2</td>\n",
       "      <td>0</td>\n",
       "      <td>2011.0</td>\n",
       "      <td>0</td>\n",
       "      <td>0.000019</td>\n",
       "    </tr>\n",
       "    <tr>\n",
       "      <th>3</th>\n",
       "      <td>20110094190</td>\n",
       "      <td>3</td>\n",
       "      <td>0</td>\n",
       "      <td>2011.0</td>\n",
       "      <td>0</td>\n",
       "      <td>0.000072</td>\n",
       "    </tr>\n",
       "    <tr>\n",
       "      <th>4</th>\n",
       "      <td>20110094190</td>\n",
       "      <td>4</td>\n",
       "      <td>0</td>\n",
       "      <td>2011.0</td>\n",
       "      <td>0</td>\n",
       "      <td>0.000019</td>\n",
       "    </tr>\n",
       "  </tbody>\n",
       "</table>\n",
       "</div>"
      ],
      "text/plain": [
       "      pgpub_id  chunk_id  label    year  predictions  probabilities\n",
       "0  20110094190         0      0  2011.0            0       0.000015\n",
       "1  20110094190         1      0  2011.0            0       0.000015\n",
       "2  20110094190         2      0  2011.0            0       0.000019\n",
       "3  20110094190         3      0  2011.0            0       0.000072\n",
       "4  20110094190         4      0  2011.0            0       0.000019"
      ]
     },
     "execution_count": 20,
     "metadata": {},
     "output_type": "execute_result"
    }
   ],
   "source": [
    "df_post.head()"
   ]
  },
  {
   "cell_type": "code",
   "execution_count": 15,
   "id": "f871185c-b857-431c-82eb-552e2bfef484",
   "metadata": {},
   "outputs": [
    {
     "data": {
      "text/plain": [
       "184158"
      ]
     },
     "execution_count": 15,
     "metadata": {},
     "output_type": "execute_result"
    }
   ],
   "source": [
    "len(set(df_pre['pgpub_id']))"
   ]
  },
  {
   "cell_type": "code",
   "execution_count": 18,
   "id": "84a7b0ef-c682-46e8-9844-1b5bc14d4541",
   "metadata": {},
   "outputs": [
    {
     "data": {
      "text/plain": [
       "267632"
      ]
     },
     "execution_count": 18,
     "metadata": {},
     "output_type": "execute_result"
    }
   ],
   "source": [
    "len(set(df_post['pgpub_id']))"
   ]
  },
  {
   "cell_type": "code",
   "execution_count": 22,
   "id": "f921ca19-3861-498d-849c-cb93faabbafe",
   "metadata": {},
   "outputs": [],
   "source": [
    "# combine the df's\n",
    "df = pd.concat([df_pre, df_post], axis=0, ignore_index=True)"
   ]
  },
  {
   "cell_type": "code",
   "execution_count": 23,
   "id": "ae1b1fd4-f018-4d3d-a600-bf5273bb2379",
   "metadata": {},
   "outputs": [
    {
     "data": {
      "text/plain": [
       "(2165042, 6)"
      ]
     },
     "execution_count": 23,
     "metadata": {},
     "output_type": "execute_result"
    }
   ],
   "source": [
    "df.shape"
   ]
  },
  {
   "cell_type": "code",
   "execution_count": 24,
   "id": "f6c40f47-671f-44a8-9e67-75ab5198d76d",
   "metadata": {},
   "outputs": [
    {
     "data": {
      "text/plain": [
       "451790"
      ]
     },
     "execution_count": 24,
     "metadata": {},
     "output_type": "execute_result"
    }
   ],
   "source": [
    "len(set(df['pgpub_id']))"
   ]
  },
  {
   "cell_type": "code",
   "execution_count": 49,
   "id": "fcda1049-3447-42d8-8cb4-7d2d6ad98ddd",
   "metadata": {},
   "outputs": [],
   "source": [
    "grouped = df.groupby('pgpub_id').agg({\n",
    "                        'probabilities': 'mean',\n",
    "                        'label': 'mean',\n",
    "                        'year': 'mean'\n",
    "                    }).reset_index()"
   ]
  },
  {
   "cell_type": "code",
   "execution_count": 50,
   "id": "12abc5be-a27e-4b86-888e-af9ebcf9d970",
   "metadata": {},
   "outputs": [
    {
     "data": {
      "text/plain": [
       "(451790, 4)"
      ]
     },
     "execution_count": 50,
     "metadata": {},
     "output_type": "execute_result"
    }
   ],
   "source": [
    "grouped.shape"
   ]
  },
  {
   "cell_type": "code",
   "execution_count": 51,
   "id": "3948016e-ab59-4f5b-8bc4-6ba518952068",
   "metadata": {},
   "outputs": [
    {
     "data": {
      "text/html": [
       "<div>\n",
       "<style scoped>\n",
       "    .dataframe tbody tr th:only-of-type {\n",
       "        vertical-align: middle;\n",
       "    }\n",
       "\n",
       "    .dataframe tbody tr th {\n",
       "        vertical-align: top;\n",
       "    }\n",
       "\n",
       "    .dataframe thead th {\n",
       "        text-align: right;\n",
       "    }\n",
       "</style>\n",
       "<table border=\"1\" class=\"dataframe\">\n",
       "  <thead>\n",
       "    <tr style=\"text-align: right;\">\n",
       "      <th></th>\n",
       "      <th>pgpub_id</th>\n",
       "      <th>probabilities</th>\n",
       "      <th>label</th>\n",
       "      <th>year</th>\n",
       "    </tr>\n",
       "  </thead>\n",
       "  <tbody>\n",
       "    <tr>\n",
       "      <th>0</th>\n",
       "      <td>20010000574</td>\n",
       "      <td>0.003712</td>\n",
       "      <td>0.0</td>\n",
       "      <td>2001.0</td>\n",
       "    </tr>\n",
       "    <tr>\n",
       "      <th>1</th>\n",
       "      <td>20010000846</td>\n",
       "      <td>0.000013</td>\n",
       "      <td>0.0</td>\n",
       "      <td>2001.0</td>\n",
       "    </tr>\n",
       "    <tr>\n",
       "      <th>2</th>\n",
       "      <td>20010000847</td>\n",
       "      <td>0.000014</td>\n",
       "      <td>0.0</td>\n",
       "      <td>2001.0</td>\n",
       "    </tr>\n",
       "    <tr>\n",
       "      <th>3</th>\n",
       "      <td>20010000850</td>\n",
       "      <td>0.000013</td>\n",
       "      <td>0.0</td>\n",
       "      <td>2001.0</td>\n",
       "    </tr>\n",
       "    <tr>\n",
       "      <th>4</th>\n",
       "      <td>20010000868</td>\n",
       "      <td>0.003712</td>\n",
       "      <td>0.0</td>\n",
       "      <td>2001.0</td>\n",
       "    </tr>\n",
       "  </tbody>\n",
       "</table>\n",
       "</div>"
      ],
      "text/plain": [
       "      pgpub_id  probabilities  label    year\n",
       "0  20010000574       0.003712    0.0  2001.0\n",
       "1  20010000846       0.000013    0.0  2001.0\n",
       "2  20010000847       0.000014    0.0  2001.0\n",
       "3  20010000850       0.000013    0.0  2001.0\n",
       "4  20010000868       0.003712    0.0  2001.0"
      ]
     },
     "execution_count": 51,
     "metadata": {},
     "output_type": "execute_result"
    }
   ],
   "source": [
    "# probability and label per doc\n",
    "grouped.head()"
   ]
  },
  {
   "cell_type": "code",
   "execution_count": 52,
   "id": "b39c2c2f-f6fb-4fd5-84d9-0db523663e25",
   "metadata": {},
   "outputs": [
    {
     "data": {
      "text/plain": [
       "label\n",
       "0.0    416414\n",
       "1.0     35376\n",
       "Name: count, dtype: int64"
      ]
     },
     "execution_count": 52,
     "metadata": {},
     "output_type": "execute_result"
    }
   ],
   "source": [
    "grouped['label'].value_counts()"
   ]
  },
  {
   "cell_type": "code",
   "execution_count": 53,
   "id": "84bf8560-41e5-4fa8-9eb2-4f1439d68978",
   "metadata": {},
   "outputs": [],
   "source": [
    "# Determine preds_docs based on 'prob_green' mean\n",
    "preds_docs = (grouped['probabilities'] > 0.5).astype(int).tolist()"
   ]
  },
  {
   "cell_type": "code",
   "execution_count": 54,
   "id": "bd0fd190-81e0-4b56-82eb-d684fcee96c3",
   "metadata": {},
   "outputs": [],
   "source": [
    "grouped['pred_claims'] = preds_docs"
   ]
  },
  {
   "cell_type": "code",
   "execution_count": 55,
   "id": "5c575908-1a87-4cb5-a4e4-b24f9684297a",
   "metadata": {},
   "outputs": [
    {
     "data": {
      "text/html": [
       "<div>\n",
       "<style scoped>\n",
       "    .dataframe tbody tr th:only-of-type {\n",
       "        vertical-align: middle;\n",
       "    }\n",
       "\n",
       "    .dataframe tbody tr th {\n",
       "        vertical-align: top;\n",
       "    }\n",
       "\n",
       "    .dataframe thead th {\n",
       "        text-align: right;\n",
       "    }\n",
       "</style>\n",
       "<table border=\"1\" class=\"dataframe\">\n",
       "  <thead>\n",
       "    <tr style=\"text-align: right;\">\n",
       "      <th></th>\n",
       "      <th>pgpub_id</th>\n",
       "      <th>probabilities</th>\n",
       "      <th>label</th>\n",
       "      <th>year</th>\n",
       "      <th>pred_claims</th>\n",
       "    </tr>\n",
       "  </thead>\n",
       "  <tbody>\n",
       "    <tr>\n",
       "      <th>0</th>\n",
       "      <td>20010000574</td>\n",
       "      <td>0.003712</td>\n",
       "      <td>0.0</td>\n",
       "      <td>2001.0</td>\n",
       "      <td>0</td>\n",
       "    </tr>\n",
       "    <tr>\n",
       "      <th>1</th>\n",
       "      <td>20010000846</td>\n",
       "      <td>0.000013</td>\n",
       "      <td>0.0</td>\n",
       "      <td>2001.0</td>\n",
       "      <td>0</td>\n",
       "    </tr>\n",
       "    <tr>\n",
       "      <th>2</th>\n",
       "      <td>20010000847</td>\n",
       "      <td>0.000014</td>\n",
       "      <td>0.0</td>\n",
       "      <td>2001.0</td>\n",
       "      <td>0</td>\n",
       "    </tr>\n",
       "    <tr>\n",
       "      <th>3</th>\n",
       "      <td>20010000850</td>\n",
       "      <td>0.000013</td>\n",
       "      <td>0.0</td>\n",
       "      <td>2001.0</td>\n",
       "      <td>0</td>\n",
       "    </tr>\n",
       "    <tr>\n",
       "      <th>4</th>\n",
       "      <td>20010000868</td>\n",
       "      <td>0.003712</td>\n",
       "      <td>0.0</td>\n",
       "      <td>2001.0</td>\n",
       "      <td>0</td>\n",
       "    </tr>\n",
       "  </tbody>\n",
       "</table>\n",
       "</div>"
      ],
      "text/plain": [
       "      pgpub_id  probabilities  label    year  pred_claims\n",
       "0  20010000574       0.003712    0.0  2001.0            0\n",
       "1  20010000846       0.000013    0.0  2001.0            0\n",
       "2  20010000847       0.000014    0.0  2001.0            0\n",
       "3  20010000850       0.000013    0.0  2001.0            0\n",
       "4  20010000868       0.003712    0.0  2001.0            0"
      ]
     },
     "execution_count": 55,
     "metadata": {},
     "output_type": "execute_result"
    }
   ],
   "source": [
    "grouped.head()"
   ]
  },
  {
   "cell_type": "code",
   "execution_count": 56,
   "id": "275b71c5-fb0c-4491-b48e-4171fb621b08",
   "metadata": {},
   "outputs": [
    {
     "data": {
      "text/plain": [
       "pred_claims\n",
       "0    424471\n",
       "1     27319\n",
       "Name: count, dtype: int64"
      ]
     },
     "execution_count": 56,
     "metadata": {},
     "output_type": "execute_result"
    }
   ],
   "source": [
    "grouped['pred_claims'].value_counts()"
   ]
  },
  {
   "cell_type": "code",
   "execution_count": 57,
   "id": "d63ddea5-8477-4b63-b66d-458d7ba61237",
   "metadata": {},
   "outputs": [
    {
     "data": {
      "image/png": "[encoded data removed]",
      "text/plain": [
       "<Figure size 640x480 with 1 Axes>"
      ]
     },
     "metadata": {},
     "output_type": "display_data"
    },
    {
     "name": "stdout",
     "output_type": "stream",
     "text": [
      "Precision: 0.9235\n",
      "Recall: 0.7132\n",
      "F1 Score: 0.8048\n",
      "Accuracy: 97.2914%\n",
      "False Positive Rate: 0.5019%\n",
      "False Negative Rate: 28.6833%\n",
      "F1 Scores per class: [0.98544747 0.80481697]\n",
      "Macro-average F1: 0.8951322230160194\n",
      "Weighted-average F1: 0.9713037694834157\n",
      "Micro-average F1: 0.9729144071360588\n"
     ]
    }
   ],
   "source": [
    "plot_confusion(grouped['label'], grouped['pred_claims'])"
   ]
  },
  {
   "cell_type": "code",
   "execution_count": 58,
   "id": "63125560-a856-43cd-ba84-1a9611d75b3a",
   "metadata": {},
   "outputs": [],
   "source": [
    "grouped.to_csv(f'{PROJ_DIR}/predictions/claims-model/claims_model_doc_preds.csv', index=False)"
   ]
  },
  {
   "cell_type": "code",
   "execution_count": 59,
   "id": "57c9534d-121f-4782-aac4-cc0bcbf76c0a",
   "metadata": {},
   "outputs": [
    {
     "data": {
      "text/html": [
       "<div>\n",
       "<style scoped>\n",
       "    .dataframe tbody tr th:only-of-type {\n",
       "        vertical-align: middle;\n",
       "    }\n",
       "\n",
       "    .dataframe tbody tr th {\n",
       "        vertical-align: top;\n",
       "    }\n",
       "\n",
       "    .dataframe thead th {\n",
       "        text-align: right;\n",
       "    }\n",
       "</style>\n",
       "<table border=\"1\" class=\"dataframe\">\n",
       "  <thead>\n",
       "    <tr style=\"text-align: right;\">\n",
       "      <th></th>\n",
       "      <th>pgpub_id</th>\n",
       "      <th>probabilities</th>\n",
       "      <th>label</th>\n",
       "      <th>year</th>\n",
       "      <th>pred_claims</th>\n",
       "    </tr>\n",
       "  </thead>\n",
       "  <tbody>\n",
       "    <tr>\n",
       "      <th>0</th>\n",
       "      <td>20010000574</td>\n",
       "      <td>0.003712</td>\n",
       "      <td>0.0</td>\n",
       "      <td>2001.0</td>\n",
       "      <td>0</td>\n",
       "    </tr>\n",
       "    <tr>\n",
       "      <th>1</th>\n",
       "      <td>20010000846</td>\n",
       "      <td>0.000013</td>\n",
       "      <td>0.0</td>\n",
       "      <td>2001.0</td>\n",
       "      <td>0</td>\n",
       "    </tr>\n",
       "    <tr>\n",
       "      <th>2</th>\n",
       "      <td>20010000847</td>\n",
       "      <td>0.000014</td>\n",
       "      <td>0.0</td>\n",
       "      <td>2001.0</td>\n",
       "      <td>0</td>\n",
       "    </tr>\n",
       "    <tr>\n",
       "      <th>3</th>\n",
       "      <td>20010000850</td>\n",
       "      <td>0.000013</td>\n",
       "      <td>0.0</td>\n",
       "      <td>2001.0</td>\n",
       "      <td>0</td>\n",
       "    </tr>\n",
       "    <tr>\n",
       "      <th>4</th>\n",
       "      <td>20010000868</td>\n",
       "      <td>0.003712</td>\n",
       "      <td>0.0</td>\n",
       "      <td>2001.0</td>\n",
       "      <td>0</td>\n",
       "    </tr>\n",
       "  </tbody>\n",
       "</table>\n",
       "</div>"
      ],
      "text/plain": [
       "      pgpub_id  probabilities  label    year  pred_claims\n",
       "0  20010000574       0.003712    0.0  2001.0            0\n",
       "1  20010000846       0.000013    0.0  2001.0            0\n",
       "2  20010000847       0.000014    0.0  2001.0            0\n",
       "3  20010000850       0.000013    0.0  2001.0            0\n",
       "4  20010000868       0.003712    0.0  2001.0            0"
      ]
     },
     "execution_count": 59,
     "metadata": {},
     "output_type": "execute_result"
    }
   ],
   "source": [
    "grouped.head()"
   ]
  },
  {
   "cell_type": "code",
   "execution_count": 61,
   "id": "e793d027-1dbc-4c5e-83eb-c08e31e5ed63",
   "metadata": {},
   "outputs": [
    {
     "name": "stderr",
     "output_type": "stream",
     "text": [
      "/tmp/ipykernel_3220301/854932953.py:2: DeprecationWarning: DataFrameGroupBy.apply operated on the grouping columns. This behavior is deprecated, and in a future version of pandas the grouping columns will be excluded from the operation. Either pass `include_groups=False` to exclude the groupings or explicitly select the grouping columns after groupby to silence this warning.\n",
      "  metrics_per_year = grouped.groupby('year').apply(lambda x: pd.Series({\n"
     ]
    }
   ],
   "source": [
    "# Group by year and compute metrics\n",
    "metrics_per_year = grouped.groupby('year').apply(lambda x: pd.Series({\n",
    "    'accuracy': accuracy_score(x['label'], x['pred_claims']),\n",
    "    'precision': precision_score(x['label'], x['pred_claims'], zero_division=0),\n",
    "    'recall': recall_score(x['label'], x['pred_claims'], zero_division=0),\n",
    "    'f1_score': f1_score(x['label'], x['pred_claims'], zero_division=0),\n",
    "    'fnr': (confusion_matrix(x['label'], x['pred_claims']).ravel()[2] / (confusion_matrix(x['label'], \n",
    "                                             x['pred_claims']).ravel()[2] + confusion_matrix(x['label'], \n",
    "                                             x['pred_claims']).ravel()[3])) if (confusion_matrix(x['label'], \n",
    "                                             x['pred_claims']).ravel()[2] + confusion_matrix(x['label'], x['pred_claims']).ravel()[3]) > 0 else 0,\n",
    "    'fpr': (confusion_matrix(x['label'], x['pred_claims']).ravel()[1] / (confusion_matrix(x['label'], \n",
    "                                             x['pred_claims']).ravel()[1] + confusion_matrix(x['label'], \n",
    "                                             x['pred_claims']).ravel()[0])) if (confusion_matrix(x['label'], \n",
    "                                             x['pred_claims']).ravel()[1] + confusion_matrix(x['label'], x['pred_claims']).ravel()[0]) > 0 else 0\n",
    "})).reset_index()"
   ]
  },
  {
   "cell_type": "code",
   "execution_count": 62,
   "id": "6d78c5e5-4278-40ef-927c-2934bbdffe06",
   "metadata": {},
   "outputs": [
    {
     "data": {
      "image/png": "[encoded data removed]",
      "text/plain": [
       "<Figure size 1200x600 with 6 Axes>"
      ]
     },
     "metadata": {},
     "output_type": "display_data"
    }
   ],
   "source": [
    "# Plotting the metrics per year\n",
    "plt.figure(figsize=(12, 6))\n",
    "\n",
    "# Create a subplot for each metric\n",
    "metrics = ['accuracy', 'precision', 'recall', 'f1_score', 'fnr', 'fpr']\n",
    "\n",
    "for i, metric in enumerate(metrics, 1):\n",
    "    plt.subplot(2, 3, i)\n",
    "    plt.axvline(x=2010, color='red', linestyle='--', label='Year 2010')\n",
    "    sns.lineplot(x='year', y=metric, data=metrics_per_year, marker='o')\n",
    "    plt.title(metric.capitalize())\n",
    "    plt.xlabel('Year')\n",
    "    plt.ylabel(metric.capitalize())\n",
    "\n",
    "plt.tight_layout()\n",
    "plt.show()"
   ]
  },
  {
   "cell_type": "code",
   "execution_count": null,
   "id": "62260868-ebd0-4825-8996-9a2588652dfe",
   "metadata": {},
   "outputs": [],
   "source": []
  }
 ],
 "metadata": {
  "kernelspec": {
   "display_name": "patents",
   "language": "python",
   "name": "patents"
  },
  "language_info": {
   "codemirror_mode": {
    "name": "ipython",
    "version": 3
   },
   "file_extension": ".py",
   "mimetype": "text/x-python",
   "name": "python",
   "nbconvert_exporter": "python",
   "pygments_lexer": "ipython3",
   "version": "3.10.12"
  }
 },
 "nbformat": 4,
 "nbformat_minor": 5
}
